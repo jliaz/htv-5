{
 "cells": [
  {
   "cell_type": "code",
   "execution_count": 15,
   "metadata": {},
   "outputs": [
    {
     "name": "stdout",
     "output_type": "stream",
     "text": [
      "x-data\n",
      "y-data\n"
     ]
    },
    {
     "data": {
      "image/png": "[encoded data removed]",
      "text/plain": [
       "<Figure size 432x288 with 1 Axes>"
      ]
     },
     "metadata": {
      "needs_background": "light"
     },
     "output_type": "display_data"
    },
    {
     "name": "stdout",
     "output_type": "stream",
     "text": [
      "0X+-1\n"
     ]
    }
   ],
   "source": [
    "from operator import xor\n",
    "from sklearn import datasets\n",
    "# from pydataset import data\n",
    "import pandas as pd\n",
    "import numpy as np\n",
    "from sklearn.linear_model import LinearRegression\n",
    "# from sklearn.model_selection import train_test_split\n",
    "from matplotlib import pyplot as plt\n",
    "import csv\n",
    "\n",
    "filepath = \"/Users/ansel/Desktop/HTV5/htv-5/server/sample.csv\"\n",
    "x_coord_name = \"percollege\"\n",
    "y_coord_name = \"percprof\"\n",
    "\n",
    "info_matrix = []\n",
    "\n",
    "# with open(filepath, newline='') as csvfile:\n",
    "#     spamreader = csv.reader(csvfile, delimiter=' ', quotechar='|')\n",
    "#     for row in spamreader:\n",
    "#         info_matrix.append(', '.join(row))\n",
    "\n",
    "df = df = pd.read_csv(filepath)\n",
    "\n",
    "info_matrix=df.T\n",
    "\n",
    "# print(info_matrix)\n",
    "\n",
    "headers = list(df.columns)\n",
    "\n",
    "# print(headers)\n",
    "\n",
    "# print(info_matrix.T[\"county\"])\n",
    "\n",
    "# print(df[2])\n",
    "\n",
    "x = info_matrix.T[x_coord_name].to_numpy()\n",
    "y = info_matrix.T[y_coord_name].to_numpy()\n",
    "\n",
    "print(\"x-data\")\n",
    "# print(x)\n",
    "print(\"y-data\")\n",
    "# print(y)\n",
    "\n",
    "x = x.reshape(-1, 1)\n",
    "y = y.reshape(-1, 1)\n",
    "\n",
    "model = LinearRegression()\n",
    "model.fit(x,y)\n",
    "\n",
    "linear_regression_line = str(int(model.coef_)) + \"X\" + \"+\" + str(int(model.intercept_)) \n",
    "\n",
    "\n",
    "x_test = np.linspace(-10,150)\n",
    "y_pred = model.predict(x_test[:,None])\n",
    "\n",
    "plt.scatter(x,y)\n",
    "plt.plot(x_test, y_pred,'r')\n",
    "plt.show()\n",
    "\n",
    "print(linear_regression_line)\n"
   ]
  }
 ],
 "metadata": {
  "interpreter": {
   "hash": "aee8b7b246df8f9039afb4144a1f6fd8d2ca17a180786b69acc140d282b71a49"
  },
  "kernelspec": {
   "display_name": "Python 3.7.0 64-bit",
   "name": "python3"
  },
  "language_info": {
   "codemirror_mode": {
    "name": "ipython",
    "version": 3
   },
   "file_extension": ".py",
   "mimetype": "text/x-python",
   "name": "python",
   "nbconvert_exporter": "python",
   "pygments_lexer": "ipython3",
   "version": "3.7.0"
  },
  "orig_nbformat": 4
 },
 "nbformat": 4,
 "nbformat_minor": 2
}
